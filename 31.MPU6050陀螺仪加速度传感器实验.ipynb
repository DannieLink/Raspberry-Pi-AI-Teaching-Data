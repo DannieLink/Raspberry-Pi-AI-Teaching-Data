{
 "cells": [
  {
   "cell_type": "markdown",
   "id": "55885ce8-54b4-4e35-b11d-98b4fda01b19",
   "metadata": {},
   "source": [
    "<center><img src=\"./image/CLBLOGO.jpg\" alt=\"创乐博\" style=\"width: 300px;\"/></center>\n",
    "\n",
    "# 31.MPU6050陀螺仪加速度传感器实验\n",
    "\n",
    "@－－－－湖南创乐博智能科技有限公司－－－－<br>\n",
    "@  文件名：31.MPU6050陀螺仪加速度传感器实验.py <br>\n",
    "@  版本：V2.0 <br>\n",
    "@  author: zhulin<br>\n",
    "@  说明：MPU6050陀螺仪加速度传感器实验\n",
    "MPU6050陀螺仪加速度传感器实验，mpu6050库进行操作，进行I2C控制方式，控制MPU6050陀螺仪加速度传感器，并在界面上打印出对应的加速度速度和陀螺仪数据！！！！！！<br>"
   ]
  },
  {
   "cell_type": "markdown",
   "id": "445be920-d473-45b8-8aa6-e4b55af36b2e",
   "metadata": {},
   "source": [
    "## 1.导入必要的库文件"
   ]
  },
  {
   "cell_type": "code",
   "execution_count": 1,
   "id": "ab179391-9c46-48fd-92a4-d95e587c591a",
   "metadata": {},
   "outputs": [],
   "source": [
    "from mpu6050 import mpu6050\n",
    "from time import sleep"
   ]
  },
  {
   "cell_type": "markdown",
   "id": "bbee25d9-eeff-4358-8858-030d6724a8f1",
   "metadata": {},
   "source": [
    "## 2.初始化工作"
   ]
  },
  {
   "cell_type": "code",
   "execution_count": null,
   "id": "8061dfaa-9d83-4472-90c2-1fc60451907a",
   "metadata": {},
   "outputs": [],
   "source": [
    "# 初始化I2C地址为0x68的MPU-6050传感器\n",
    "makerobo_sensor = mpu6050(0x68)"
   ]
  },
  {
   "cell_type": "markdown",
   "id": "e02fbeb2-59db-4f0c-bf5c-78f4e5bd8804",
   "metadata": {},
   "source": [
    "## 3.循环函数"
   ]
  },
  {
   "cell_type": "code",
   "execution_count": null,
   "id": "e77514af-5ab2-4e49-a633-90fd484dcca2",
   "metadata": {},
   "outputs": [],
   "source": [
    "# 循环函数\n",
    "def makerobo_loop():\n",
    "    try:\n",
    "        while True:\n",
    "            # 从传感器中检索加速度计数据。\n",
    "            accel_data = makerobo_sensor.get_accel_data()\n",
    "            # 从传感器中检索陀螺仪数据。\n",
    "            gyro_data = makerobo_sensor.get_gyro_data()\n",
    "            # 从传感器检索温度数据。\n",
    "            temp = makerobo_sensor.get_temp()\n",
    "        \n",
    "            # 打印加速度计数据。\n",
    "            print(\"Accelerometer data\")\n",
    "            print(\"x: \" + str(accel_data['x']))\n",
    "            print(\"y: \" + str(accel_data['y']))\n",
    "            print(\"z: \" + str(accel_data['z']))\n",
    "        \n",
    "            # 打印陀螺仪数据。\n",
    "            print(\"Gyroscope data\")\n",
    "            print(\"x: \" + str(gyro_data['x']))\n",
    "            print(\"y: \" + str(gyro_data['y']))\n",
    "            print(\"z: \" + str(gyro_data['z']))\n",
    "        \n",
    "            # 以摄氏度打印温度\n",
    "            print(\"Temp: \" + str(temp) + \" C\")\n",
    "        \n",
    "            # 在下一个读取周期之前暂停0.5秒。\n",
    "            sleep(0.5)\n",
    "    except KeyboardInterrupt:\n",
    "        print(\"Exit\")  # Exit on CTRL+C"
   ]
  },
  {
   "cell_type": "markdown",
   "id": "39cd4d39-7284-48c4-920c-59969df8900a",
   "metadata": {},
   "source": [
    "## 4.程序入口"
   ]
  },
  {
   "cell_type": "code",
   "execution_count": null,
   "id": "a89b2dfd-31a9-4982-9059-42b33115b115",
   "metadata": {},
   "outputs": [],
   "source": [
    "# 程序入口\n",
    "if __name__ == \"__main__\":\n",
    "\ttry:\n",
    "\t\tmakerobo_loop()       # 循环显示信息\n",
    "\texcept KeyboardInterrupt: # 当按下Ctrl+C时，将执行destroy()子程序。\n",
    "\t\tprint(\"Exit\")  # Exit on CTRL+C"
   ]
  },
  {
   "cell_type": "code",
   "execution_count": null,
   "id": "03c07d7b-feee-42aa-beb9-832451a59208",
   "metadata": {},
   "outputs": [],
   "source": []
  }
 ],
 "metadata": {
  "kernelspec": {
   "display_name": "Python 3 (ipykernel)",
   "language": "python",
   "name": "python3"
  },
  "language_info": {
   "codemirror_mode": {
    "name": "ipython",
    "version": 3
   },
   "file_extension": ".py",
   "mimetype": "text/x-python",
   "name": "python",
   "nbconvert_exporter": "python",
   "pygments_lexer": "ipython3",
   "version": "3.11.2"
  }
 },
 "nbformat": 4,
 "nbformat_minor": 5
}
