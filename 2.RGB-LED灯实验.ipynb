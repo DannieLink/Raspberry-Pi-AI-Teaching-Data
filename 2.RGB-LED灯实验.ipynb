{
 "cells": [
  {
   "cell_type": "markdown",
   "id": "1e199d3a-70ea-4f01-a662-41ef98b46608",
   "metadata": {},
   "source": [
    "<center><img src=\"./image/CLBLOGO.jpg\" alt=\"创乐博\" style=\"width: 300px;\"/></center>\r\n",
    "\n",
    "# 2.RGB-LED灯传感器实验\n",
    "\n",
    "@----湖南创乐博智能科技有限公司---<br>\n",
    "@ 文件名：2.RGB-LED灯传感器实验.ipynb <br>\n",
    "@ 版本：V2.0 <br>\n",
    "@ author: zhulin <br>\n",
    "@ 说明：RGBLED灯控制程序，采用PWM方式进行控制! <br>"
   ]
  },
  {
   "cell_type": "markdown",
   "id": "f5f58331-df2f-409c-b08b-1401a5100a80",
   "metadata": {},
   "source": [
    "## 1.导入必要的库文件"
   ]
  },
  {
   "cell_type": "code",
   "execution_count": 1,
   "id": "24bb5df6-9701-49a1-8df4-dcbd1a87c5fc",
   "metadata": {},
   "outputs": [],
   "source": [
    "from gpiozero import RGBLED\n",
    "from colorzero import Color\n",
    "from time import sleep"
   ]
  },
  {
   "cell_type": "markdown",
   "id": "bf81ed90-ea51-4447-b522-85494d089b54",
   "metadata": {},
   "source": [
    "## 2.定义颜色范围值"
   ]
  },
  {
   "cell_type": "code",
   "execution_count": 2,
   "id": "20561d89-e334-41e0-9358-07f9b385ffdd",
   "metadata": {},
   "outputs": [],
   "source": [
    "colors = ['red', 'green', 'blue', 'yellow', 'magenta', 'cyan']"
   ]
  },
  {
   "cell_type": "markdown",
   "id": "90322f04-34c2-448f-8ec0-481b8b435ef1",
   "metadata": {},
   "source": [
    "## 3.实例化LED管脚"
   ]
  },
  {
   "cell_type": "code",
   "execution_count": 3,
   "id": "6167bf43-79f6-4e37-9b34-2cd241415a95",
   "metadata": {},
   "outputs": [],
   "source": [
    "led = RGBLED(17, 18, 27)"
   ]
  },
  {
   "cell_type": "markdown",
   "id": "04b01200-b8f4-4906-9fef-ee5921375822",
   "metadata": {},
   "source": [
    "## 4.主程序"
   ]
  },
  {
   "cell_type": "code",
   "execution_count": null,
   "id": "45e18609-d482-4008-9b7f-64ee3599f522",
   "metadata": {},
   "outputs": [],
   "source": [
    "# 调用循环函数\n",
    "def makerobo_loop():\n",
    "\twhile True:\n",
    "\t\tfor col in colors:\n",
    "\t\t\tled.color = Color(col)\n",
    "\t\t\tsleep(0.5)\n",
    "# 释放资源\n",
    "def makerobo_destroy():\n",
    "\tled.close()\n",
    "\n",
    "# 程序入口\n",
    "if __name__ == \"__main__\":\n",
    "\ttry:\n",
    "\t\tmakerobo_loop()        # 调用循环函数\n",
    "\texcept KeyboardInterrupt:  # 当按下Ctrl+C时，将执行destroy()子程序。\n",
    "\t\tmakerobo_destroy()     # 释放资源"
   ]
  }
 ],
 "metadata": {
  "kernelspec": {
   "display_name": "Python 3 (ipykernel)",
   "language": "python",
   "name": "python3"
  },
  "language_info": {
   "codemirror_mode": {
    "name": "ipython",
    "version": 3
   },
   "file_extension": ".py",
   "mimetype": "text/x-python",
   "name": "python",
   "nbconvert_exporter": "python",
   "pygments_lexer": "ipython3",
   "version": "3.11.2"
  }
 },
 "nbformat": 4,
 "nbformat_minor": 5
}
