{
 "cells": [
  {
   "cell_type": "markdown",
   "id": "5e5be2aa-dc22-4ba0-ba93-8c98bdc27265",
   "metadata": {},
   "source": [
    "<center><img src=\"./image/CLBLOGO.jpg\" alt=\"创乐博\" style=\"width: 300px;\"/></center>\n",
    "\n",
    "# 22.红外遥控器控制\n",
    "\n",
    "@－－－－湖南创乐博智能科技有限公司－－－－<br>\n",
    "@  文件名：22.红外遥控器控制.py <br>\n",
    "@  版本：V2.0 <br>\n",
    "@  author: zhulin<br>\n",
    "@  说明：红外遥控器控制\n",
    "红外遥控器控制程序，通过pylirc库接收红外遥控器信号，把接收到的红外遥控器控制信号解码后，判断哪个键按下，从而控制RGB LED灯亮灭情况！！！<br>"
   ]
  },
  {
   "cell_type": "markdown",
   "id": "2b635aca-632c-4543-8b28-735367190e7e",
   "metadata": {},
   "source": [
    "## 1.导入必要的库文件"
   ]
  },
  {
   "cell_type": "code",
   "execution_count": 1,
   "id": "0c444c32-96b5-4946-bb1a-8178693fea01",
   "metadata": {
    "scrolled": true
   },
   "outputs": [],
   "source": [
    "import time\n",
    "import pylirc as lirc\n",
    "from gpiozero import RGBLED"
   ]
  },
  {
   "cell_type": "markdown",
   "id": "e50dacd1-f326-41b3-a381-34045e341d19",
   "metadata": {},
   "source": [
    "## 2.定义颜色范围值"
   ]
  },
  {
   "cell_type": "code",
   "execution_count": 2,
   "id": "130bc9a0-d4cd-4276-bd90-134eb7bb7629",
   "metadata": {},
   "outputs": [],
   "source": [
    "rgb_Lv = [100, 20, 0]   # RGB 亮度配置\n",
    "rgb_color = [00, 00, 00]  # RGB 颜色配置"
   ]
  },
  {
   "cell_type": "markdown",
   "id": "238fe7e7-42fa-4886-b3f2-682514c9ff75",
   "metadata": {},
   "source": [
    "## 3.实例化LED管脚"
   ]
  },
  {
   "cell_type": "code",
   "execution_count": 3,
   "id": "db9cf733-632f-4351-ba56-ab536295e35b",
   "metadata": {},
   "outputs": [],
   "source": [
    "led = RGBLED(18, 19, 20)\n",
    "makerobo_blocking = 0 # 判断值"
   ]
  },
  {
   "cell_type": "markdown",
   "id": "0f780a37-9681-4d02-a584-ca29d6c4cd3c",
   "metadata": {},
   "source": [
    "## 4.RGB控制函数"
   ]
  },
  {
   "cell_type": "code",
   "execution_count": 4,
   "id": "f6b9a0b8-41c4-4b16-b9f0-5973476d17eb",
   "metadata": {},
   "outputs": [],
   "source": [
    "# 从一个区域映射到另一个区域函数\n",
    "def makerobo_map(x, in_min, in_max, out_min, out_max):\n",
    "\treturn (x - in_min) * (out_max - out_min) / (in_max - in_min) + out_min\n",
    "\n",
    "# RGB-LED 颜色设置\n",
    "def makerobo_ledColorSet(color):\n",
    "    r_val = 100 - color[0]\n",
    "    g_val = 100 - color[1]\n",
    "    b_val = 100 - color[2]\n",
    "    r_val = makerobo_map(r_val,0,100,0,1)\n",
    "    g_val = makerobo_map(g_val,0,100,0,1)\n",
    "    b_val = makerobo_map(b_val,0,100,0,1)\n",
    "    led.color = (r_val,g_val,b_val)"
   ]
  },
  {
   "cell_type": "markdown",
   "id": "4a40a5c5-ae17-4b2e-a3dc-2496ddb115c2",
   "metadata": {},
   "source": [
    "## 5.初始化函数"
   ]
  },
  {
   "cell_type": "code",
   "execution_count": 5,
   "id": "ce3e3da4-3cc1-4c3c-98cd-120a7b548acc",
   "metadata": {},
   "outputs": [],
   "source": [
    "# GPIO初始化设置\n",
    "def makerobo_setup():\n",
    "\tlirc.init(\"pylirc\", \"/etc/lirc/conf\", makerobo_blocking) # 载入配置参数"
   ]
  },
  {
   "cell_type": "markdown",
   "id": "1d4ad178-6e4f-44cf-b498-b5b1c8e9eb11",
   "metadata": {},
   "source": [
    "## 6.RGB控制函数"
   ]
  },
  {
   "cell_type": "code",
   "execution_count": 6,
   "id": "9bda7fd2-2b2f-4d71-95a3-b2dfc8547e8f",
   "metadata": {},
   "outputs": [],
   "source": [
    "def RGB_control(config):\n",
    "\tglobal color\n",
    "\tif config == 'KEY_CHANNELDOWN':  # 按键第一行第一个\n",
    "\t\trgb_color[0] = rgb_Lv[0]\n",
    "\t\tprint ('Makerobo Red OFF')\n",
    "\n",
    "\tif config == 'KEY_CHANNEL':     # 按键第一行第二个\n",
    "\t\trgb_color[0] = rgb_Lv[1]\n",
    "\t\tprint ('Makerobo Light Red')\n",
    "\n",
    "\tif config == 'KEY_CHANNELUP':   # 按键第一行第三个\n",
    "\t\trgb_color[0] = rgb_Lv[2]\n",
    "\t\tprint ('Makerobo Red')\n",
    "\n",
    "\tif config == 'KEY_PREVIOUS':    # 第二行第一个\n",
    "\t\trgb_color[1] = rgb_Lv[0]\n",
    "\t\tprint ('Makerobo Green OFF')\n",
    "\n",
    "\tif config == 'KEY_NEXT':       # 第二行第二个\n",
    "\t\trgb_color[1] = rgb_Lv[1]\n",
    "\t\tprint ('Makerobo Light Green')\n",
    "\n",
    "\tif config == 'KEY_PLAYPAUSE':  # 第二行第三个\n",
    "\t\trgb_color[1] = rgb_Lv[2]\n",
    "\t\tprint ('Makerobo Green')\n",
    "\n",
    "\tif config == 'KEY_VOLUMEDOWN': # 第三行第一个\n",
    "\t\trgb_color[2] = rgb_Lv[0]\n",
    "\t\tprint ('Makerobo Blue OFF')\n",
    "\n",
    "\tif config == 'KEY_VOLUMEUP':  # 第三行第二个\n",
    "\t\trgb_color[2] = rgb_Lv[1]\n",
    "\t\tprint ('Makerobo Light Blue')\n",
    "\n",
    "\tif config == 'KEY_EQUAL':    # 第三行第三个\n",
    "\t\trgb_color[2] = rgb_Lv[2]\n",
    "\t\tprint ('Makerobo BLUE')"
   ]
  },
  {
   "cell_type": "markdown",
   "id": "7357f3de-95cd-4994-9616-3450f7c113a2",
   "metadata": {},
   "source": [
    "## 7.循环函数"
   ]
  },
  {
   "cell_type": "code",
   "execution_count": 7,
   "id": "252547e4-ea35-4871-ae35-8aaa969c1c3e",
   "metadata": {},
   "outputs": [],
   "source": [
    "# 循环函数\n",
    "def makerobo_loop():\n",
    "\twhile True:\n",
    "\t\ts = lirc.nextcode(1)    # 获取红外遥控器码值\t\t\n",
    "\t\twhile(s):\n",
    "\t\t\tfor (code) in s:\n",
    "\t\t\t\tprint (\"Command: \", code[\"config\"]) # 调试信息，可以具体知道按下了哪个按键\n",
    "\t\t\t\tRGB_control(code[\"config\"])  # 调用控制RGB函数\n",
    "\t\t\t\tmakerobo_ledColorSet(rgb_color)  # RGB-LED 颜色设置\n",
    "\t\t\tif(not makerobo_blocking):       # 读取到值\n",
    "\t\t\t\ts = lirc.nextcode(1)       # 再一次获取红外遥控器码值\t\n",
    "\t\t\telse:\n",
    "\t\t\t\ts = []"
   ]
  },
  {
   "cell_type": "markdown",
   "id": "1c0a12ac-0d80-4227-805d-6e38e73257dc",
   "metadata": {},
   "source": [
    "## 8.释放函数"
   ]
  },
  {
   "cell_type": "code",
   "execution_count": 8,
   "id": "319509cb-8d4e-4ec8-bdee-ac49b3cff4a2",
   "metadata": {},
   "outputs": [],
   "source": [
    "def destroy():\n",
    "    led.close()\n",
    "    lirc.exit()  # 退出红外遥控器接收"
   ]
  },
  {
   "cell_type": "markdown",
   "id": "a6ca72ea-460d-4b40-a0ad-0842ec4177a4",
   "metadata": {},
   "source": [
    "## 9.程序入口"
   ]
  },
  {
   "cell_type": "code",
   "execution_count": null,
   "id": "94c4e730-8686-46db-8e13-8ecfb95cfac3",
   "metadata": {
    "scrolled": true
   },
   "outputs": [
    {
     "name": "stdout",
     "output_type": "stream",
     "text": [
      "Command:  KEY_CHANNELDOWN\n",
      "Makerobo Red OFF\n",
      "Command:  KEY_CHANNEL\n",
      "Makerobo Light Red\n",
      "Command:  KEY_PREVIOUS\n",
      "Makerobo Green OFF\n",
      "Command:  KEY_VOLUMEDOWN\n",
      "Makerobo Blue OFF\n",
      "Command:  KEY_CHANNELUP\n",
      "Makerobo Red\n",
      "Command:  KEY_CHANNELUP\n",
      "Makerobo Red\n",
      "Command:  KEY_PLAYPAUSE\n",
      "Makerobo Green\n",
      "Command:  KEY_CHANNELUP\n",
      "Makerobo Red\n",
      "Command:  KEY_EQUAL\n",
      "Makerobo BLUE\n"
     ]
    }
   ],
   "source": [
    "# 程序入口\n",
    "if __name__ == '__main__':\n",
    "\ttry:\n",
    "\t\tmakerobo_setup() # GPIO初始化程序\n",
    "\t\tmakerobo_loop()  # 调用循环函数\n",
    "\texcept KeyboardInterrupt: # 如果按下ctrl + C,退出，处理异常\n",
    "\t\tdestroy() # 释放资源"
   ]
  },
  {
   "cell_type": "code",
   "execution_count": null,
   "id": "099245ce-378a-4624-9599-c77f55b78ee4",
   "metadata": {},
   "outputs": [],
   "source": []
  }
 ],
 "metadata": {
  "kernelspec": {
   "display_name": "Python 3 (ipykernel)",
   "language": "python",
   "name": "python3"
  },
  "language_info": {
   "codemirror_mode": {
    "name": "ipython",
    "version": 3
   },
   "file_extension": ".py",
   "mimetype": "text/x-python",
   "name": "python",
   "nbconvert_exporter": "python",
   "pygments_lexer": "ipython3",
   "version": "3.12.7"
  }
 },
 "nbformat": 4,
 "nbformat_minor": 5
}
