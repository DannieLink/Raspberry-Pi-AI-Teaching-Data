{
 "cells": [
  {
   "cell_type": "markdown",
   "id": "e99ea53d-0ac5-43b5-802b-3cbe917767b0",
   "metadata": {},
   "source": [
    "<center><img src=\"./image/CLBLOGO.jpg\" alt=\"创乐博\" style=\"width: 300px;\"/></center>\n",
    "\n",
    "# 17.模拟温度传感器实验\n",
    "\n",
    "@－－－－湖南创乐博智能科技有限公司－－－－<br>\n",
    "@  文件名：17.模拟温度传感器实验.py <br>\n",
    "@  版本：V2.0 <br>\n",
    "@  author: zhulin<br>\n",
    "@  说明：模拟模拟温度传感器实验\n",
    "模拟温度传感器实验，通过GPIOZero库自带的MCP3008 10位模数转换库直接控制，采集到模拟温度传感器的模拟值，然后折算成具体的温度值，同时通过数字端口检测判断温度是否过高，从而进行提示！！！<br>"
   ]
  },
  {
   "cell_type": "markdown",
   "id": "f5f58331-df2f-409c-b08b-1401a5100a80",
   "metadata": {},
   "source": [
    "## 1.导入必要的库文件"
   ]
  },
  {
   "cell_type": "code",
   "execution_count": null,
   "id": "83db1301-789c-4820-af1b-3a55d0b03465",
   "metadata": {},
   "outputs": [],
   "source": [
    "from gpiozero import Button, MCP3008\n",
    "from gpiozero.tools import absoluted, scaled\n",
    "from signal import pause\n",
    "from time import sleep\n",
    "import math"
   ]
  },
  {
   "cell_type": "markdown",
   "id": "bf81ed90-ea51-4447-b522-85494d089b54",
   "metadata": {},
   "source": [
    "## 2.定义温度传感器使用通道和温度传感器数字管脚"
   ]
  },
  {
   "cell_type": "code",
   "execution_count": null,
   "id": "20561d89-e334-41e0-9358-07f9b385ffdd",
   "metadata": {},
   "outputs": [],
   "source": [
    "makerobo_DO = Button(17)                 # 温度传感器Do管脚\n",
    "makerobo_tempPin = MCP3008(channel=0)    # 定义温度传感器获取ADC值通道"
   ]
  },
  {
   "cell_type": "markdown",
   "id": "7f61388b-5a73-43b3-88c7-3167f1bd68f5",
   "metadata": {},
   "source": [
    "## 3.定义打印"
   ]
  },
  {
   "cell_type": "code",
   "execution_count": null,
   "id": "81b1514f-5d90-42c4-826e-17124bd69257",
   "metadata": {},
   "outputs": [],
   "source": [
    "# 打印出温度传感器的提示信息\n",
    "def makerobo_Print(x):\n",
    "\tif x == 1:     # 正合适\n",
    "\t\tprint ('')\n",
    "\t\tprint ('***********')\n",
    "\t\tprint ('* Better~ *')\n",
    "\t\tprint ('***********')\n",
    "\t\tprint ('')\n",
    "\tif x == 0:    # 太热\n",
    "\t\tprint ('')\n",
    "\t\tprint ('************')\n",
    "\t\tprint ('* Too Hot! *')\n",
    "\t\tprint ('************')\n",
    "\t\tprint ('')"
   ]
  },
  {
   "cell_type": "markdown",
   "id": "9e8dc3b8-858e-4434-8062-f44edb629870",
   "metadata": {},
   "source": [
    "## 4.循环函数"
   ]
  },
  {
   "cell_type": "code",
   "execution_count": null,
   "id": "660f4219-a6c7-4511-a918-14be8f04e8ee",
   "metadata": {},
   "outputs": [],
   "source": [
    "def MAP(x, in_min, in_max, out_min, out_max):\n",
    "    return (x - in_min) * (out_max - out_min) / (in_max - in_min) + out_min\n",
    "\n",
    "def makerobo_loop():\n",
    "    makerobo_status = 1  # 状态值\n",
    "    makerobo_tmp = 1     # 当前值\n",
    "    while True:  # 无限循环\n",
    "        makerobo_analogVal = makerobo_tempPin.value                       # 获取AIN0 的模拟量值\n",
    "        makerobo_Vr = float(makerobo_analogVal) * 3.3                     # 转换为电压值\n",
    "        makerobo_Rt = 10000 * makerobo_Vr / (3.3 - makerobo_Vr)\n",
    "        makerobo_temp = 1/(((math.log(makerobo_Rt / 10000)) / 3950) + (1 / (273.15+25)))\n",
    "        temp_c = makerobo_temp - 273.15\n",
    "        temp_f = temp_c * 9.0 / 5.0 + 32\n",
    "        print(\"Temp C={:.2f}\\tTemp F={:.2f}\".format(temp_c, temp_f))\n",
    "\n",
    "        makerobo_tmp = not makerobo_DO.is_pressed    # 获取温度传感器的数字量\n",
    "        if makerobo_tmp != makerobo_status:          # 判断状态值发生改变\n",
    "            makerobo_Print(makerobo_tmp)    # 打印出温度传感器的提示信息\n",
    "            makerobo_status = makerobo_tmp  # 把当前状态值设置为比较状态值，避免重复打印； \n",
    "        sleep(0.2) # 延时200ms "
   ]
  },
  {
   "cell_type": "markdown",
   "id": "04b01200-b8f4-4906-9fef-ee5921375822",
   "metadata": {},
   "source": [
    "## 5.主程序"
   ]
  },
  {
   "cell_type": "code",
   "execution_count": null,
   "id": "45e18609-d482-4008-9b7f-64ee3599f522",
   "metadata": {},
   "outputs": [],
   "source": [
    "# 程序入口\n",
    "if __name__ == '__main__':\t\t\n",
    "\ttry:\n",
    "\t\tmakerobo_loop() # 调用循环函数\n",
    "\texcept KeyboardInterrupt:  \t# 当按下Ctrl+C时，将执行destroy()子程序。\n",
    "\t\tpass"
   ]
  },
  {
   "cell_type": "code",
   "execution_count": null,
   "id": "c925d3c3-f41e-4a1f-a687-6fea69bbb21a",
   "metadata": {},
   "outputs": [],
   "source": []
  }
 ],
 "metadata": {
  "kernelspec": {
   "display_name": "Python 3 (ipykernel)",
   "language": "python",
   "name": "python3"
  },
  "language_info": {
   "codemirror_mode": {
    "name": "ipython",
    "version": 3
   },
   "file_extension": ".py",
   "mimetype": "text/x-python",
   "name": "python",
   "nbconvert_exporter": "python",
   "pygments_lexer": "ipython3",
   "version": "3.12.7"
  }
 },
 "nbformat": 4,
 "nbformat_minor": 5
}
