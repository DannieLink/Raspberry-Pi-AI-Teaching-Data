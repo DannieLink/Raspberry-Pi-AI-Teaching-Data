{
 "cells": [
  {
   "cell_type": "markdown",
   "id": "55de737e-3a43-4a48-869f-512dba2e1fe9",
   "metadata": {},
   "source": [
    "<center><img src=\"./image/CLBLOGO.jpg\" alt=\"创乐博\" style=\"width: 300px;\"/></center>\n",
    "\n",
    "# 12.ADC模数转换模块实验\n",
    "\n",
    "@－－－－湖南创乐博智能科技有限公司－－－－<br>\n",
    "@  文件名：12.ADC模数转换模块实验.py <br>\n",
    "@  版本：V2.0 <br>\n",
    "@  author: zhulin<br>\n",
    "@  说明：模数转换模块实验\n",
    "模数转换模块实验，通过GPIOZero库自带的MCP3008 10位模数转换库直接控制，可以非常便利操作8路10位ADC采集！！！<br>"
   ]
  },
  {
   "cell_type": "markdown",
   "id": "f5f58331-df2f-409c-b08b-1401a5100a80",
   "metadata": {},
   "source": [
    "## 1.导入必要的库文件"
   ]
  },
  {
   "cell_type": "code",
   "execution_count": 1,
   "id": "83db1301-789c-4820-af1b-3a55d0b03465",
   "metadata": {},
   "outputs": [],
   "source": [
    "from gpiozero import PWMLED, MCP3008\n",
    "from gpiozero.tools import absoluted, scaled\n",
    "from signal import pause"
   ]
  },
  {
   "cell_type": "markdown",
   "id": "bf81ed90-ea51-4447-b522-85494d089b54",
   "metadata": {},
   "source": [
    "## 2.定义使用通道和LED灯控制管脚"
   ]
  },
  {
   "cell_type": "code",
   "execution_count": 2,
   "id": "20561d89-e334-41e0-9358-07f9b385ffdd",
   "metadata": {},
   "outputs": [],
   "source": [
    "led = PWMLED(17)\n",
    "pot = MCP3008(channel=0)"
   ]
  },
  {
   "cell_type": "markdown",
   "id": "04b01200-b8f4-4906-9fef-ee5921375822",
   "metadata": {},
   "source": [
    "## 3.主程序"
   ]
  },
  {
   "cell_type": "code",
   "execution_count": null,
   "id": "45e18609-d482-4008-9b7f-64ee3599f522",
   "metadata": {
    "scrolled": true
   },
   "outputs": [],
   "source": [
    "# 程序入口\n",
    "if __name__ == '__main__':\n",
    "    try:\n",
    "        led.source = absoluted(pot)\n",
    "        pause()\n",
    "    except KeyboardInterrupt:  #  当按下Ctrl+C时，将执行destroy()子程序。\n",
    "        led.close()     #  释放资源"
   ]
  }
 ],
 "metadata": {
  "kernelspec": {
   "display_name": "Python 3 (ipykernel)",
   "language": "python",
   "name": "python3"
  },
  "language_info": {
   "codemirror_mode": {
    "name": "ipython",
    "version": 3
   },
   "file_extension": ".py",
   "mimetype": "text/x-python",
   "name": "python",
   "nbconvert_exporter": "python",
   "pygments_lexer": "ipython3",
   "version": "3.11.2"
  }
 },
 "nbformat": 4,
 "nbformat_minor": 5
}
