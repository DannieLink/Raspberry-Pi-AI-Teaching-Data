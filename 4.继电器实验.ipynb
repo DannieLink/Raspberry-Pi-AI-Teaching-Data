{
 "cells": [
  {
   "cell_type": "markdown",
   "id": "6b365763-5ed6-4c49-9dfe-1494e75ec9c6",
   "metadata": {},
   "source": [
    "\n",
    "@  说明：继电器实验\n",
    "继电器控制程序，通过LED的方式控制继电器开关！！！<br>"
   ]
  },
  {
   "cell_type": "markdown",
   "id": "f5f58331-df2f-409c-b08b-1401a5100a80",
   "metadata": {},
   "source": [
    "## 1.导入必要的库文件"
   ]
  },
  {
   "cell_type": "code",
   "execution_count": 1,
   "id": "24bb5df6-9701-49a1-8df4-dcbd1a87c5fc",
   "metadata": {},
   "outputs": [],
   "source": [
    "from gpiozero import LED\n",
    "from time import sleep"
   ]
  },
  {
   "cell_type": "markdown",
   "id": "bf81ed90-ea51-4447-b522-85494d089b54",
   "metadata": {},
   "source": [
    "## 2.定义继电器管脚 GPIO17"
   ]
  },
  {
   "cell_type": "code",
   "execution_count": 2,
   "id": "20561d89-e334-41e0-9358-07f9b385ffdd",
   "metadata": {},
   "outputs": [],
   "source": [
    "makerobo_RelayPin = LED(17)"
   ]
  },
  {
   "cell_type": "markdown",
   "id": "90322f04-34c2-448f-8ec0-481b8b435ef1",
   "metadata": {},
   "source": [
    "## 3.初始化工作"
   ]
  },
  {
   "cell_type": "code",
   "execution_count": 3,
   "id": "6167bf43-79f6-4e37-9b34-2cd241415a95",
   "metadata": {},
   "outputs": [],
   "source": [
    "def makerobo_setup():\n",
    "    makerobo_RelayPin.off() # 关闭继电器\t"
   ]
  },
  {
   "cell_type": "markdown",
   "id": "04b01200-b8f4-4906-9fef-ee5921375822",
   "metadata": {},
   "source": [
    "## 4.主程序"
   ]
  },
  {
   "cell_type": "code",
   "execution_count": null,
   "id": "45e18609-d482-4008-9b7f-64ee3599f522",
   "metadata": {},
   "outputs": [],
   "source": [
    "# 循环函数\n",
    "def makerobo_loop():\n",
    "\twhile True:\n",
    "\t\t# 继电器打开\n",
    "\t\tmakerobo_RelayPin.on()  # 打开继电器\n",
    "\t\tsleep(0.5)              # 延时500ms\n",
    "\t\t# 继电器关闭\n",
    "\t\tmakerobo_RelayPin.off() # 关闭继电器\n",
    "\t\tsleep(0.5)         # 延时500ms\n",
    "\n",
    "# 释放资源\n",
    "def makerobo_destroy():\n",
    "    makerobo_RelayPin.close()\n",
    "\n",
    "# 程序入口\n",
    "if __name__ == '__main__':\n",
    "\tmakerobo_setup()           #  初始化\n",
    "\ttry:\n",
    "\t\tmakerobo_loop()        #  调用循环函数\n",
    "\texcept KeyboardInterrupt:  #  当按下Ctrl+C时，将执行destroy()子程序。\n",
    "\t\tmakerobo_destroy()     #  释放资源"
   ]
  },
  {
   "cell_type": "code",
   "execution_count": null,
   "id": "3404005d-ae0c-45a1-bea3-0858163514db",
   "metadata": {},
   "outputs": [],
   "source": []
  }
 ],
 "metadata": {
  "kernelspec": {
   "display_name": "Python 3 (ipykernel)",
   "language": "python",
   "name": "python3"
  },
  "language_info": {
   "codemirror_mode": {
    "name": "ipython",
    "version": 3
   },
   "file_extension": ".py",
   "mimetype": "text/x-python",
   "name": "python",
   "nbconvert_exporter": "python",
   "pygments_lexer": "ipython3",
   "version": "3.12.7"
  }
 },
 "nbformat": 4,
 "nbformat_minor": 5
}
