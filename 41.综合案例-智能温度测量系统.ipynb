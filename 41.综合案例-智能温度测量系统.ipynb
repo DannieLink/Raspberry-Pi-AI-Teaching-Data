{
 "cells": [
  {
   "cell_type": "markdown",
   "id": "ecb430b8-bce2-4323-a1a1-46dfa460bedc",
   "metadata": {},
   "source": [
    "<center><img src=\"./image/CLBLOGO.jpg\" alt=\"创乐博\" style=\"width: 300px;\"/></center>\n",
    "\n",
    "# 41.综合案例-智能温度测量系统\n",
    "\n",
    "@－－－－湖南创乐博智能科技有限公司－－－－<br>\n",
    "@  文件名：41.综合案例-智能温度测量系统.py <br>\n",
    "@  版本：V2.0 <br>\n",
    "@  author: zhulin<br>\n",
    "@  说明：综合案例-智能温度测量系统\n",
    "综合案例-智能温度测量系统，该案例为所学传感器知识的一个综合应用案例，为进一步巩固所学知识的一个总结！！！<br>"
   ]
  },
  {
   "cell_type": "markdown",
   "id": "f0728e25-f41e-4c7d-86ce-58909756ffce",
   "metadata": {},
   "source": [
    "## 1.导入必要的库文件"
   ]
  },
  {
   "cell_type": "code",
   "execution_count": null,
   "id": "fca2c6c3-1993-4c53-8b7c-5ca0bea57e58",
   "metadata": {},
   "outputs": [],
   "source": [
    "from gpiozero import MCP3008\n",
    "import os\n",
    "from gpiozero.tools import absoluted, scaled\n",
    "from signal import pause\n",
    "from gpiozero import Buzzer\n",
    "from gpiozero import RGBLED\n",
    "from colorzero import Color\n",
    "from time import sleep"
   ]
  },
  {
   "cell_type": "markdown",
   "id": "65a659d6-0e47-4e69-a2ac-86887ecc84ad",
   "metadata": {},
   "source": [
    "## 2.管脚定义"
   ]
  },
  {
   "cell_type": "code",
   "execution_count": null,
   "id": "3f4b4c08-3966-4336-b1da-0bf5a01886b1",
   "metadata": {},
   "outputs": [],
   "source": [
    "## DS18B20 地址，该地址需要修改\n",
    "makerobo_ds18b20 = '28-4d0cd4445032'  # ds18b20 设备，每个设备地址都会不一样，需要修改"
   ]
  },
  {
   "cell_type": "code",
   "execution_count": null,
   "id": "631eab99-a130-42fe-83f4-43b618a31567",
   "metadata": {},
   "outputs": [],
   "source": [
    "## 颜色定义\n",
    "makerobo_color = ['red', 'green', 'blue']\n",
    "## DS18B20 初始化\n",
    "os.system('modprobe w1-gpio')\n",
    "os.system('modprobe w1-therm')\n",
    "\n",
    "## RGB-LED灯定义\n",
    "led = RGBLED(17, 18, 19)     # RGB-LED灯定义\n",
    "makerobo_Buzzer = 20        # 有源蜂鸣器管脚定义\n",
    "# PS2操纵杆定义\n",
    "pot_x = MCP3008(channel=0) # 定义PS2操纵杆对应的X方向管脚\n",
    "pot_y = MCP3008(channel=1) # 定义PS2操纵杆对应的y方向管脚\n",
    "pot_z = MCP3008(channel=2) # 定义PS2操纵杆对应的z方向管脚"
   ]
  },
  {
   "cell_type": "markdown",
   "id": "7158cf42-def2-4fee-b8d8-0906631333c7",
   "metadata": {},
   "source": [
    "## 3. 功能函数"
   ]
  },
  {
   "cell_type": "code",
   "execution_count": null,
   "id": "dc65608e-37e5-46db-b45f-0eeb1bfade17",
   "metadata": {},
   "outputs": [],
   "source": [
    "# 初始化函数\n",
    "def makerobo_setup():\n",
    "    global bz\n",
    "    global makerobo_ds18b20  # 全局变量\n",
    "    global ds_lowl, ds_highl  # 定义温度值的上下限值\n",
    "    ds_lowl = 29              # 初始化下限值为29度\n",
    "    ds_highl = 31             # 初始化上限值为31度\n",
    "    bz = Buzzer(pin=makerobo_Buzzer,active_high = False )  # 设置管脚，及改为低电平开启蜂鸣器\n",
    "    bz.off()\n",
    "    # 获取 ds18b20 地址\n",
    "    for i in os.listdir('/sys/bus/w1/devices'):\n",
    "        if i != 'w1_bus_master1':\n",
    "            makerobo_ds18b20 = i       # ds18b20存放在ds18b20地址\n",
    "\n",
    "def MAP(x, in_min, in_max, out_min, out_max):\n",
    "    return (x - in_min) * (out_max - out_min) / (in_max - in_min) + out_min\n",
    "    \n",
    "# 方向判断函数\n",
    "def makerobo_direction():\n",
    "    state = ['home', 'up', 'down', 'left', 'right', 'pressed']  # 方向状态信息\n",
    "    i = 0\n",
    "    x_value = round(pot_x.value * 1024)\n",
    "    y_value = round(pot_y.value * 1024)\n",
    "    z_value = round(pot_z.value * 1024)\n",
    "    x_value = round(MAP(x_value,0,1023,0,255))\n",
    "    y_value = round(MAP(y_value,0,1023,0,255))\n",
    "    z_value = round(MAP(z_value,0,1023,0,255))\n",
    "    '''\n",
    "    print('x_value:{},y_value:{},z_value{}'.format(x_value,y_value,z_value))\n",
    "    '''\n",
    "    if x_value <= 30:\n",
    "        i = 1     # up方向\n",
    "    if x_value >= 225:\n",
    "        i = 2    # down方向\n",
    "    if y_value >= 225:\n",
    "        i = 4    # left 方向\n",
    "    if y_value <= 30:\n",
    "        i = 3    # right 方向\n",
    "    if z_value <= 2 and y_value >= 128:\n",
    "        i = 5    # Button 按下\n",
    "    if x_value - 125 < 15 and x_value - 125 > -15\tand y_value - 125 < 15 and y_value - 125 > -15 and z_value >= 250:\n",
    "        i = 0\n",
    "    \n",
    "    return state[i]   # 返回状态\n",
    "\n",
    "# 计算\n",
    "def makerobo_edge():\n",
    "\tglobal ds_lowl, ds_highl\n",
    "\tds_temp = makerobo_direction()   # 调用PS2操作函数进行方向判断\n",
    "\tif ds_temp == 'Pressed':\n",
    "\t\tmakerobo_destroy()   # 退出系统\n",
    "\t\tquit()\n",
    "\tif ds_temp == 'up' and ds_lowl < ds_highl-1:   # PS2手柄向上拨动  上限值加1\n",
    "\t\tds_highl += 1\n",
    "\tif ds_temp == 'down' and ds_lowl >= -5:        # PS2手柄向下拨动  上限值减1\n",
    "\t\tds_highl -= 1\n",
    "\tif ds_temp == 'right' and ds_highl <= 125:     # PS2手柄向右拨动 下限值加1\n",
    "\t\tds_lowl += 1\n",
    "\tif ds_temp == 'left' and ds_lowl < ds_highl-1: # PS2手柄向左拨动 下限值减1\n",
    "\t\tds_lowl -= 1\n",
    "\n",
    "# 检查值是否在闭区间内（包括边界值）\n",
    "def is_in_closed_range(value, start, end):\n",
    "    return start <= value <= end\n",
    "\n",
    "# 读取ds18b20地址数据\n",
    "def makerobo_read():\n",
    "    makerobo_location = '/sys/bus/w1/devices/' + makerobo_ds18b20 + '/w1_slave' # 保存ds18b20地址信息\n",
    "    makerobo_tfile = open(makerobo_location)  # 打开ds18b20 \n",
    "    makerobo_text = makerobo_tfile.read()     # 读取到温度值\n",
    "    makerobo_tfile.close()                    # 关闭读取\n",
    "    try:\n",
    "        secondline = makerobo_text.split(\"\\n\")[1] # 格式化处理\n",
    "    except IndexError as e:\n",
    "        return 1000  # 抛出不正常的温度\n",
    "    temperaturedata = secondline.split(\" \")[9]# 获取温度数据\n",
    "    temperature = float(temperaturedata[2:])  # 去掉前两位\n",
    "    temperature = temperature / 1000          # 去掉小数点\n",
    "    return temperature                        # 返回温度值\n",
    "\n",
    "# 控制蜂鸣器鸣叫\n",
    "def makerobo_beep(x):\n",
    "\tbz.on()     # 打开蜂鸣器控制\n",
    "\tsleep(x)   # 延时时间\n",
    "\tbz.off()    # 关闭蜂鸣器控制\n",
    "\tsleep(x)   # 延时时间\n",
    "    \n",
    "# 无限循环函数\n",
    "def makerobo_loop():\n",
    "    while True:\n",
    "        makerobo_edge()       #  调用计算函数\n",
    "        ds_temp = makerobo_read()  # 读取温度值\n",
    "        if is_in_closed_range(ds_temp, -20.0, 100.0):   # 排除错误的温度值\n",
    "            print ('Makerobo The lower limit of temperature : ', ds_lowl)    # 打印出下限值\n",
    "            print ('Makerobo The upper limit of temperature : ', ds_highl)   # 打印出上限值\n",
    "            print ('Makerobo Current temperature : ', ds_temp)               # 打印读取DS18B20温度值\n",
    "            if float(ds_temp) < float(ds_lowl):                              # 当实际温度值小于下限值，驱动蜂鸣器发出警报\n",
    "                led.color = Color('blue')                                    # RGB—LED 显示蓝色              \n",
    "                for i in range(0, 3):\n",
    "                    makerobo_beep(0.5)                                       # 蜂鸣器发出叫声\n",
    "            if ds_temp >= float(ds_lowl) and ds_temp < float(ds_highl):      # 当实际温度值在上下限值之内，则工作正常\n",
    "                led.color = Color('green')                                   # RGB—LED 显示绿色\n",
    "            if ds_temp >= float(ds_highl):                                   #  当实际温度值大于上限值\n",
    "                led.color = Color('red')                                     # RGB—LED 显示红色\n",
    "                for i in range(0, 3):\n",
    "                    makerobo_beep(0.1)                                      #  蜂鸣器发出叫声   \n",
    "# 释放函数\n",
    "def makerobo_destroy():\n",
    "    led.close()\n",
    "    \n",
    "    "
   ]
  },
  {
   "cell_type": "markdown",
   "id": "e1396f0b-bbf8-428a-9051-7b3d0a445a29",
   "metadata": {},
   "source": [
    "## 4.主程序"
   ]
  },
  {
   "cell_type": "code",
   "execution_count": null,
   "id": "07a10273-8e00-4218-b297-73167ccfb7f6",
   "metadata": {},
   "outputs": [],
   "source": [
    "# 程序入口\n",
    "if __name__ == '__main__':\n",
    "    try:\n",
    "        makerobo_setup()                                                # 调用初始化\n",
    "        makerobo_loop()                                                 # 调用循环函数\n",
    "    except KeyboardInterrupt:  #  当按下Ctrl+C时，将执行destroy()子程序。\n",
    "        makerobo_destroy()     #  释放资源"
   ]
  },
  {
   "cell_type": "code",
   "execution_count": null,
   "id": "daf7072d-ef84-4e81-9c7c-d2502745012e",
   "metadata": {},
   "outputs": [],
   "source": []
  }
 ],
 "metadata": {
  "kernelspec": {
   "display_name": "Python 3 (ipykernel)",
   "language": "python",
   "name": "python3"
  },
  "language_info": {
   "codemirror_mode": {
    "name": "ipython",
    "version": 3
   },
   "file_extension": ".py",
   "mimetype": "text/x-python",
   "name": "python",
   "nbconvert_exporter": "python",
   "pygments_lexer": "ipython3",
   "version": "3.12.7"
  }
 },
 "nbformat": 4,
 "nbformat_minor": 5
}
