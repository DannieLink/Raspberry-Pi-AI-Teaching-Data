{
 "cells": [
  {
   "cell_type": "markdown",
   "id": "2fdc273c-7a78-49e1-8201-77387f297ff1",
   "metadata": {},
   "source": [
    "<center><img src=\"./image/CLBLOGO.jpg\" alt=\"创乐博\" style=\"width: 300px;\"/></center>\n",
    "\n",
    "# 9-1.有源蜂鸣器实验\n",
    "\n",
    "@－－－－湖南创乐博智能科技有限公司－－－－<br>\n",
    "@  文件名：9-1.有源蜂鸣器实验.py <br>\n",
    "@  版本：V2.0 <br>\n",
    "@  author: zhulin<br>\n",
    "@  说明：有源蜂鸣器实验<br>\n",
    "有源蜂鸣器实验，通过GPIOZero库的Buzzer库直接驱动有源蜂鸣器发出报警声！！！<br>"
   ]
  },
  {
   "cell_type": "markdown",
   "id": "f5f58331-df2f-409c-b08b-1401a5100a80",
   "metadata": {},
   "source": [
    "## 1.导入必要的库文件"
   ]
  },
  {
   "cell_type": "code",
   "execution_count": 1,
   "id": "24bb5df6-9701-49a1-8df4-dcbd1a87c5fc",
   "metadata": {},
   "outputs": [],
   "source": [
    "from gpiozero import Buzzer\n",
    "from gpiozero import LED\n",
    "from time import sleep\n",
    "from signal import pause"
   ]
  },
  {
   "cell_type": "markdown",
   "id": "bf81ed90-ea51-4447-b522-85494d089b54",
   "metadata": {},
   "source": [
    "## 2.定义有源蜂鸣器管脚"
   ]
  },
  {
   "cell_type": "code",
   "execution_count": 2,
   "id": "20561d89-e334-41e0-9358-07f9b385ffdd",
   "metadata": {},
   "outputs": [],
   "source": [
    "makerobo_Buzzer = 17    # 有源蜂鸣器管脚定义"
   ]
  },
  {
   "cell_type": "markdown",
   "id": "948171fb-35a4-4e99-a671-172c4c27a411",
   "metadata": {},
   "source": [
    "## 3.初始化工作"
   ]
  },
  {
   "cell_type": "code",
   "execution_count": 3,
   "id": "a0c58259-8f1b-48ee-beed-cd91d6cef020",
   "metadata": {},
   "outputs": [],
   "source": [
    "# GPIO设置函数\n",
    "def makerobo_setup():\n",
    "    global bz\n",
    "    bz = Buzzer(pin=makerobo_Buzzer,active_high = False )  # 设置管脚，及改为低电平开启蜂鸣器\n",
    "    bz.off()"
   ]
  },
  {
   "cell_type": "markdown",
   "id": "04b01200-b8f4-4906-9fef-ee5921375822",
   "metadata": {},
   "source": [
    "## 4.功能函数"
   ]
  },
  {
   "cell_type": "code",
   "execution_count": 4,
   "id": "ff0e6589-219b-4173-8828-2a7e9b97f733",
   "metadata": {},
   "outputs": [],
   "source": [
    "#  打开蜂鸣器\n",
    "def makerobo_buzzer_on():\n",
    "\tbz.on()    # 蜂鸣器为低电平触发，所以使能蜂鸣器让其发声\n",
    "# 关闭蜂鸣器\n",
    "def makerobo_buzzer_off():\n",
    "\tbz.off()  # 蜂鸣器设置为高电平，关闭蜂鸟器\n",
    "\n",
    "# 控制蜂鸣器鸣叫\n",
    "def makerobo_beep(x):\n",
    "\tmakerobo_buzzer_on()     # 打开蜂鸣器控制\n",
    "\tsleep(x)            # 延时时间\n",
    "\tmakerobo_buzzer_off()    # 关闭蜂鸣器控制\n",
    "\tsleep(x)            # 延时时间"
   ]
  },
  {
   "cell_type": "markdown",
   "id": "15ed888c-608f-4db1-8e2c-4883b91123f2",
   "metadata": {},
   "source": [
    "## 5.主程序"
   ]
  },
  {
   "cell_type": "code",
   "execution_count": null,
   "id": "f021e634-cfe9-4752-83e9-9a773069d42e",
   "metadata": {},
   "outputs": [],
   "source": [
    "# 循环函数\n",
    "def loop():\n",
    "\twhile True:\n",
    "\t\tmakerobo_beep(0.5) # 控制蜂鸣器鸣叫，延时时间为500mm\n",
    "\n",
    "def destroy():\n",
    "    p_G.close() # 释放资源\n",
    "                  \n",
    "\n",
    "# 程序入口\n",
    "if __name__ == '__main__':    \n",
    "\tmakerobo_setup()                # 设置GPIO管脚\n",
    "\ttry:                            # 检测异常\n",
    "\t\tloop()                      # 调用循环函数     \n",
    "\texcept KeyboardInterrupt:  # 当按下Ctrl+C时，将执行destroy()子程序。\n",
    "\t\tdestroy()              # 释放资源"
   ]
  }
 ],
 "metadata": {
  "kernelspec": {
   "display_name": "Python 3 (ipykernel)",
   "language": "python",
   "name": "python3"
  },
  "language_info": {
   "codemirror_mode": {
    "name": "ipython",
    "version": 3
   },
   "file_extension": ".py",
   "mimetype": "text/x-python",
   "name": "python",
   "nbconvert_exporter": "python",
   "pygments_lexer": "ipython3",
   "version": "3.12.7"
  }
 },
 "nbformat": 4,
 "nbformat_minor": 5
}
